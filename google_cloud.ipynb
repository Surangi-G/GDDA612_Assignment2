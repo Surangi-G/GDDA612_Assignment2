{
 "cells": [
  {
   "cell_type": "code",
   "execution_count": 1,
   "id": "afcaf966-8914-4937-bd5f-b9e85185d44f",
   "metadata": {},
   "outputs": [
    {
     "name": "stdout",
     "output_type": "stream",
     "text": [
      "Collecting google-cloud-storageNote: you may need to restart the kernel to use updated packages.\n",
      "\n",
      "  Downloading google_cloud_storage-2.18.2-py2.py3-none-any.whl.metadata (9.1 kB)\n",
      "Collecting google-auth<3.0dev,>=2.26.1 (from google-cloud-storage)\n",
      "  Downloading google_auth-2.33.0-py2.py3-none-any.whl.metadata (4.7 kB)\n",
      "Collecting google-api-core<3.0.0dev,>=2.15.0 (from google-cloud-storage)\n",
      "  Downloading google_api_core-2.19.1-py3-none-any.whl.metadata (2.7 kB)\n",
      "Collecting google-cloud-core<3.0dev,>=2.3.0 (from google-cloud-storage)\n",
      "  Downloading google_cloud_core-2.4.1-py2.py3-none-any.whl.metadata (2.7 kB)\n",
      "Collecting google-resumable-media>=2.7.2 (from google-cloud-storage)\n",
      "  Downloading google_resumable_media-2.7.2-py2.py3-none-any.whl.metadata (2.2 kB)\n",
      "Requirement already satisfied: requests<3.0.0dev,>=2.18.0 in c:\\users\\hp 850 g3\\anaconda3\\lib\\site-packages (from google-cloud-storage) (2.31.0)\n",
      "Collecting google-crc32c<2.0dev,>=1.0 (from google-cloud-storage)\n",
      "  Downloading google_crc32c-1.5.0-cp311-cp311-win_amd64.whl.metadata (2.3 kB)\n",
      "Collecting googleapis-common-protos<2.0.dev0,>=1.56.2 (from google-api-core<3.0.0dev,>=2.15.0->google-cloud-storage)\n",
      "  Downloading googleapis_common_protos-1.63.2-py2.py3-none-any.whl.metadata (1.5 kB)\n",
      "Requirement already satisfied: protobuf!=3.20.0,!=3.20.1,!=4.21.0,!=4.21.1,!=4.21.2,!=4.21.3,!=4.21.4,!=4.21.5,<6.0.0.dev0,>=3.19.5 in c:\\users\\hp 850 g3\\anaconda3\\lib\\site-packages (from google-api-core<3.0.0dev,>=2.15.0->google-cloud-storage) (3.20.3)\n",
      "Collecting proto-plus<2.0.0dev,>=1.22.3 (from google-api-core<3.0.0dev,>=2.15.0->google-cloud-storage)\n",
      "  Downloading proto_plus-1.24.0-py3-none-any.whl.metadata (2.2 kB)\n",
      "Requirement already satisfied: cachetools<6.0,>=2.0.0 in c:\\users\\hp 850 g3\\anaconda3\\lib\\site-packages (from google-auth<3.0dev,>=2.26.1->google-cloud-storage) (4.2.2)\n",
      "Requirement already satisfied: pyasn1-modules>=0.2.1 in c:\\users\\hp 850 g3\\anaconda3\\lib\\site-packages (from google-auth<3.0dev,>=2.26.1->google-cloud-storage) (0.2.8)\n",
      "Collecting rsa<5,>=3.1.4 (from google-auth<3.0dev,>=2.26.1->google-cloud-storage)\n",
      "  Downloading rsa-4.9-py3-none-any.whl.metadata (4.2 kB)\n",
      "Requirement already satisfied: charset-normalizer<4,>=2 in c:\\users\\hp 850 g3\\anaconda3\\lib\\site-packages (from requests<3.0.0dev,>=2.18.0->google-cloud-storage) (2.0.4)\n",
      "Requirement already satisfied: idna<4,>=2.5 in c:\\users\\hp 850 g3\\anaconda3\\lib\\site-packages (from requests<3.0.0dev,>=2.18.0->google-cloud-storage) (3.4)\n",
      "Requirement already satisfied: urllib3<3,>=1.21.1 in c:\\users\\hp 850 g3\\anaconda3\\lib\\site-packages (from requests<3.0.0dev,>=2.18.0->google-cloud-storage) (2.0.7)\n",
      "Requirement already satisfied: certifi>=2017.4.17 in c:\\users\\hp 850 g3\\anaconda3\\lib\\site-packages (from requests<3.0.0dev,>=2.18.0->google-cloud-storage) (2024.2.2)\n",
      "Requirement already satisfied: pyasn1<0.5.0,>=0.4.6 in c:\\users\\hp 850 g3\\anaconda3\\lib\\site-packages (from pyasn1-modules>=0.2.1->google-auth<3.0dev,>=2.26.1->google-cloud-storage) (0.4.8)\n",
      "Downloading google_cloud_storage-2.18.2-py2.py3-none-any.whl (130 kB)\n",
      "   ---------------------------------------- 0.0/130.5 kB ? eta -:--:--\n",
      "   --------------------- ------------------ 71.7/130.5 kB 2.0 MB/s eta 0:00:01\n",
      "   ---------------------------------------- 130.5/130.5 kB 1.9 MB/s eta 0:00:00\n",
      "Downloading google_api_core-2.19.1-py3-none-any.whl (139 kB)\n",
      "   ---------------------------------------- 0.0/139.4 kB ? eta -:--:--\n",
      "   ---------------------------------------- 139.4/139.4 kB 8.1 MB/s eta 0:00:00\n",
      "Downloading google_auth-2.33.0-py2.py3-none-any.whl (200 kB)\n",
      "   ---------------------------------------- 0.0/200.5 kB ? eta -:--:--\n",
      "   --------------------------------------- 200.5/200.5 kB 11.9 MB/s eta 0:00:00\n",
      "Downloading google_cloud_core-2.4.1-py2.py3-none-any.whl (29 kB)\n",
      "Downloading google_crc32c-1.5.0-cp311-cp311-win_amd64.whl (27 kB)\n",
      "Downloading google_resumable_media-2.7.2-py2.py3-none-any.whl (81 kB)\n",
      "   ---------------------------------------- 0.0/81.3 kB ? eta -:--:--\n",
      "   ---------------------------------------- 81.3/81.3 kB 4.4 MB/s eta 0:00:00\n",
      "Downloading googleapis_common_protos-1.63.2-py2.py3-none-any.whl (220 kB)\n",
      "   ---------------------------------------- 0.0/220.0 kB ? eta -:--:--\n",
      "   --------------------------------------- 220.0/220.0 kB 13.1 MB/s eta 0:00:00\n",
      "Downloading proto_plus-1.24.0-py3-none-any.whl (50 kB)\n",
      "   ---------------------------------------- 0.0/50.1 kB ? eta -:--:--\n",
      "   ---------------------------------------- 50.1/50.1 kB ? eta 0:00:00\n",
      "Downloading rsa-4.9-py3-none-any.whl (34 kB)\n",
      "Installing collected packages: rsa, proto-plus, googleapis-common-protos, google-crc32c, google-resumable-media, google-auth, google-api-core, google-cloud-core, google-cloud-storage\n",
      "Successfully installed google-api-core-2.19.1 google-auth-2.33.0 google-cloud-core-2.4.1 google-cloud-storage-2.18.2 google-crc32c-1.5.0 google-resumable-media-2.7.2 googleapis-common-protos-1.63.2 proto-plus-1.24.0 rsa-4.9\n"
     ]
    }
   ],
   "source": [
    "pip install google-cloud-storage"
   ]
  },
  {
   "cell_type": "code",
   "execution_count": 3,
   "id": "a3fed949-3a39-4375-8beb-e9289e70ca60",
   "metadata": {},
   "outputs": [
    {
     "name": "stdout",
     "output_type": "stream",
     "text": [
      "C:\\Users\\HP 850 G3\\612\\Assignment\n"
     ]
    }
   ],
   "source": [
    "import os\n",
    "print(os.getcwd())"
   ]
  },
  {
   "cell_type": "code",
   "execution_count": 5,
   "id": "f866fd4f-4c2f-4cd9-a051-f1bb3d01475a",
   "metadata": {},
   "outputs": [
    {
     "name": "stdout",
     "output_type": "stream",
     "text": [
      "Directory exists. Listing contents:\n",
      "['Assignment', 'Assignment2', 'backups', 'labs', 'New Text Document.txt', 'service_ac.json.json', 'slides']\n"
     ]
    }
   ],
   "source": [
    "import os\n",
    "\n",
    "# Attempt to list files in the target directory\n",
    "directory = r'E:\\NZSE\\612_DataTransformation'\n",
    "if os.path.exists(directory):\n",
    "    print(\"Directory exists. Listing contents:\")\n",
    "    print(os.listdir(directory))\n",
    "else:\n",
    "    print(\"Directory not found.\")"
   ]
  },
  {
   "cell_type": "code",
   "execution_count": 1,
   "id": "5319afb9-d98b-444a-9b0e-bc08a35646bb",
   "metadata": {},
   "outputs": [],
   "source": [
    "from google.cloud import storage"
   ]
  },
  {
   "cell_type": "code",
   "execution_count": 13,
   "id": "9519372c-368d-4924-aa7e-8341b812f1bb",
   "metadata": {},
   "outputs": [
    {
     "name": "stdout",
     "output_type": "stream",
     "text": [
      "File uploaded to google cloud successfully\n"
     ]
    }
   ],
   "source": [
    "#configuration details\n",
    "service_account_key_path = r'E:\\NZSE\\612_DataTransformation\\gdda612-429508-eac8451fc469.json' \n",
    "bucket_name = '612_assignment2'\n",
    "local_file_path = r'E:\\NZSE\\612_DataTransformation\\Assignment2\\Fashion_sales.csv'  \n",
    "destination_blob_name = 'Fashion_sales_612.csv' \n",
    "\n",
    "# establishing connection using service account key\n",
    "storage_client = storage.Client.from_service_account_json(service_account_key_path)\n",
    "\n",
    "# Access the bucket\n",
    "bucket = storage_client.get_bucket(bucket_name)\n",
    "\n",
    "# Create a blob object from the bucket\n",
    "blob = bucket.blob(destination_blob_name)\n",
    "\n",
    "# Upload the file to the blob\n",
    "blob.upload_from_filename(local_file_path)\n",
    "\n",
    "print('File uploaded to google cloud successfully')"
   ]
  },
  {
   "cell_type": "code",
   "execution_count": 15,
   "id": "225867d0-e027-4e0a-944c-8121778f7ed9",
   "metadata": {},
   "outputs": [
    {
     "name": "stdout",
     "output_type": "stream",
     "text": [
      "Collecting schedule\n",
      "  Downloading schedule-1.2.2-py3-none-any.whl.metadata (3.8 kB)\n",
      "Downloading schedule-1.2.2-py3-none-any.whl (12 kB)\n",
      "Installing collected packages: schedule\n",
      "Successfully installed schedule-1.2.2\n",
      "Note: you may need to restart the kernel to use updated packages.\n"
     ]
    }
   ],
   "source": [
    "pip install schedule\n"
   ]
  },
  {
   "cell_type": "code",
   "execution_count": 1,
   "id": "874b237f-24ad-4ef3-9bf0-1e85b59e774c",
   "metadata": {},
   "outputs": [
    {
     "name": "stdout",
     "output_type": "stream",
     "text": [
      "File uploaded to 612_assignment2/Fashion_sales_backup_20240817_183224.csv successfully.\n"
     ]
    },
    {
     "ename": "KeyboardInterrupt",
     "evalue": "",
     "output_type": "error",
     "traceback": [
      "\u001b[1;31m---------------------------------------------------------------------------\u001b[0m",
      "\u001b[1;31mKeyboardInterrupt\u001b[0m                         Traceback (most recent call last)",
      "Cell \u001b[1;32mIn[1], line 41\u001b[0m\n\u001b[0;32m     39\u001b[0m \u001b[38;5;28;01mwhile\u001b[39;00m \u001b[38;5;28;01mTrue\u001b[39;00m:\n\u001b[0;32m     40\u001b[0m     schedule\u001b[38;5;241m.\u001b[39mrun_pending()\n\u001b[1;32m---> 41\u001b[0m     time\u001b[38;5;241m.\u001b[39msleep(\u001b[38;5;241m60\u001b[39m)\n",
      "\u001b[1;31mKeyboardInterrupt\u001b[0m: "
     ]
    }
   ],
   "source": [
    "from google.cloud import storage\n",
    "import os\n",
    "import datetime\n",
    "import schedule\n",
    "import time\n",
    "\n",
    "# Configuration section\n",
    "service_account_key_path = r'E:\\NZSE\\612_DataTransformation\\gdda612-429508-eac8451fc469.json'\n",
    "bucket_name = '612_assignment2'\n",
    "local_file_path = r'E:\\NZSE\\612_DataTransformation\\Assignment2\\Fashion_sales.csv'\n",
    "\n",
    "def backup_file_to_gcs():\n",
    "    try:\n",
    "        #Destination file name\n",
    "        timestamp = datetime.datetime.now().strftime('%Y%m%d_%H%M%S')\n",
    "        destination_blob_name = f'Fashion_sales_backup_{timestamp}.csv'\n",
    "\n",
    "        #Establishing connection\n",
    "        storage_client = storage.Client.from_service_account_json(service_account_key_path)\n",
    "\n",
    "        # Accessing the bucket\n",
    "        bucket = storage_client.get_bucket(bucket_name)\n",
    "\n",
    "        # Creating a blob object from the bucket with the new filename\n",
    "        blob = bucket.blob(destination_blob_name)\n",
    "\n",
    "        # Upload the file to the blob\n",
    "        blob.upload_from_filename(local_file_path)\n",
    "\n",
    "        print(f'File uploaded to {bucket_name}/{destination_blob_name} successfully.')\n",
    "\n",
    "    except Exception as e:\n",
    "        print(f'An error occurred: {e}')\n",
    "\n",
    "# Schedule the backup to run every day at 8:00 PM\n",
    "schedule.every().day.at(\"18:32\").do(backup_file_to_gcs)\n",
    "\n",
    "while True:\n",
    "    schedule.run_pending()\n",
    "    time.sleep(60)\n"
   ]
  },
  {
   "cell_type": "code",
   "execution_count": null,
   "id": "75369dc0-76ee-4eff-a572-9be18aed41c3",
   "metadata": {},
   "outputs": [],
   "source": [
    "from google.cloud import storage\n",
    "import os\n",
    "import datetime\n",
    "import schedule\n",
    "import time\n",
    "\n",
    "# Configuration section\n",
    "service_account_key_path =  r'E:\\NZSE\\612_DataTransformation\\gdda612-429508-eac8451fc469.json'\n",
    "bucket_name = '612_assignment'\n",
    "local_file_path = r'E:\\NZSE\\612_DataTransformation\\Assignment2\\Fashion_sales.csv'\n",
    "\n",
    "def backup_file_to_gcs():\n",
    "    try:\n",
    "        # Generating unique name for destination document\n",
    "        timestamp = datetime.datetime.now().strftime('%Y%m%d_%H%M%S')\n",
    "        destination_blob_name = f'Fashion_sales_backup_{timestamp}.csv'\n",
    "\n",
    "        # Enabling service account use\n",
    "        storage_client = storage.Client.from_service_account_json(service_account_key_path)\n",
    "\n",
    "        # Accessing the bucket\n",
    "        try:\n",
    "            bucket = storage_client.get_bucket(bucket_name)\n",
    "        except Exception as e:\n",
    "            print(f'Error accessing bucket {bucket_name}: {e}')\n",
    "            return  \n",
    "\n",
    "        # Creating a blob object from the bucket with the new filename\n",
    "        blob = bucket.blob(destination_blob_name)\n",
    "\n",
    "        # Uploading the file to the blob\n",
    "        try:\n",
    "            blob.upload_from_filename(local_file_path)\n",
    "            print(f'File {local_file_path} uploaded to {bucket_name}/{destination_blob_name} successfully.')\n",
    "        except Exception as e:\n",
    "            print(f'Error uploading file {local_file_path} to Google Cloud: {e}')\n",
    "\n",
    "    except Exception as e:\n",
    "        print(f'An unexpected error occurred during the backup process: {e}')\n",
    "\n",
    "# Schedule the backup to run every day at 8:00 PM\n",
    "schedule.every().day.at(\"20:00\").do(backup_file_to_gcs)\n",
    "\n",
    "# Keep the script running to check the schedule\n",
    "while True:\n",
    "    schedule.run_pending()\n",
    "    time.sleep(1)"
   ]
  }
 ],
 "metadata": {
  "kernelspec": {
   "display_name": "Python 3 (ipykernel)",
   "language": "python",
   "name": "python3"
  },
  "language_info": {
   "codemirror_mode": {
    "name": "ipython",
    "version": 3
   },
   "file_extension": ".py",
   "mimetype": "text/x-python",
   "name": "python",
   "nbconvert_exporter": "python",
   "pygments_lexer": "ipython3",
   "version": "3.11.7"
  }
 },
 "nbformat": 4,
 "nbformat_minor": 5
}
