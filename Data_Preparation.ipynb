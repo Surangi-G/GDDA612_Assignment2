{
 "cells": [
  {
   "cell_type": "code",
   "execution_count": 143,
   "id": "e82abc4d-04f8-40be-bb93-837829467a61",
   "metadata": {},
   "outputs": [],
   "source": [
    "import pandas as pd\n",
    "import numpy as np\n",
    "import pyodbc"
   ]
  },
  {
   "cell_type": "code",
   "execution_count": 144,
   "id": "63a2834a-2114-426c-a33a-a6c1d90944b6",
   "metadata": {},
   "outputs": [],
   "source": [
    "sales = pd.read_csv(\"sales_data.csv\")"
   ]
  },
  {
   "cell_type": "code",
   "execution_count": 145,
   "id": "1774c16c-a387-4ac7-9a6c-59fe13db9354",
   "metadata": {},
   "outputs": [
    {
     "data": {
      "text/html": [
       "<div>\n",
       "<style scoped>\n",
       "    .dataframe tbody tr th:only-of-type {\n",
       "        vertical-align: middle;\n",
       "    }\n",
       "\n",
       "    .dataframe tbody tr th {\n",
       "        vertical-align: top;\n",
       "    }\n",
       "\n",
       "    .dataframe thead th {\n",
       "        text-align: right;\n",
       "    }\n",
       "</style>\n",
       "<table border=\"1\" class=\"dataframe\">\n",
       "  <thead>\n",
       "    <tr style=\"text-align: right;\">\n",
       "      <th></th>\n",
       "      <th>invoice_no</th>\n",
       "      <th>customer_id</th>\n",
       "      <th>category</th>\n",
       "      <th>quantity</th>\n",
       "      <th>price</th>\n",
       "      <th>invoice_date</th>\n",
       "      <th>shopping_mall</th>\n",
       "    </tr>\n",
       "  </thead>\n",
       "  <tbody>\n",
       "    <tr>\n",
       "      <th>0</th>\n",
       "      <td>I138884</td>\n",
       "      <td>C241288</td>\n",
       "      <td>Clothing</td>\n",
       "      <td>5.0</td>\n",
       "      <td>1500.40</td>\n",
       "      <td>5/8/2022</td>\n",
       "      <td>Kanyon</td>\n",
       "    </tr>\n",
       "    <tr>\n",
       "      <th>1</th>\n",
       "      <td>I317333</td>\n",
       "      <td>C111565</td>\n",
       "      <td>Shoes</td>\n",
       "      <td>3.0</td>\n",
       "      <td>1800.51</td>\n",
       "      <td>12/12/2021</td>\n",
       "      <td>Forum Istanbul</td>\n",
       "    </tr>\n",
       "    <tr>\n",
       "      <th>2</th>\n",
       "      <td>I127801</td>\n",
       "      <td>C266599</td>\n",
       "      <td>Clothing</td>\n",
       "      <td>1.0</td>\n",
       "      <td>300.08</td>\n",
       "      <td>9/11/2021</td>\n",
       "      <td>Metrocity</td>\n",
       "    </tr>\n",
       "    <tr>\n",
       "      <th>3</th>\n",
       "      <td>I173702</td>\n",
       "      <td>C988172</td>\n",
       "      <td>Shoes</td>\n",
       "      <td>5.0</td>\n",
       "      <td>3000.85</td>\n",
       "      <td>16-05-2021</td>\n",
       "      <td>Metropol AVM</td>\n",
       "    </tr>\n",
       "    <tr>\n",
       "      <th>4</th>\n",
       "      <td>I337046</td>\n",
       "      <td>C189076</td>\n",
       "      <td>Books</td>\n",
       "      <td>4.0</td>\n",
       "      <td>60.60</td>\n",
       "      <td>24-10-2021</td>\n",
       "      <td>Kanyon</td>\n",
       "    </tr>\n",
       "  </tbody>\n",
       "</table>\n",
       "</div>"
      ],
      "text/plain": [
       "  invoice_no customer_id  category  quantity    price invoice_date  \\\n",
       "0    I138884     C241288  Clothing       5.0  1500.40     5/8/2022   \n",
       "1    I317333     C111565     Shoes       3.0  1800.51   12/12/2021   \n",
       "2    I127801     C266599  Clothing       1.0   300.08    9/11/2021   \n",
       "3    I173702     C988172     Shoes       5.0  3000.85   16-05-2021   \n",
       "4    I337046     C189076     Books       4.0    60.60   24-10-2021   \n",
       "\n",
       "    shopping_mall  \n",
       "0          Kanyon  \n",
       "1  Forum Istanbul  \n",
       "2       Metrocity  \n",
       "3    Metropol AVM  \n",
       "4          Kanyon  "
      ]
     },
     "execution_count": 145,
     "metadata": {},
     "output_type": "execute_result"
    }
   ],
   "source": [
    "sales.head()"
   ]
  },
  {
   "cell_type": "code",
   "execution_count": 146,
   "id": "c27ea18d-a668-4325-8211-cae15e1c0b48",
   "metadata": {},
   "outputs": [
    {
     "data": {
      "text/html": [
       "<div>\n",
       "<style scoped>\n",
       "    .dataframe tbody tr th:only-of-type {\n",
       "        vertical-align: middle;\n",
       "    }\n",
       "\n",
       "    .dataframe tbody tr th {\n",
       "        vertical-align: top;\n",
       "    }\n",
       "\n",
       "    .dataframe thead th {\n",
       "        text-align: right;\n",
       "    }\n",
       "</style>\n",
       "<table border=\"1\" class=\"dataframe\">\n",
       "  <thead>\n",
       "    <tr style=\"text-align: right;\">\n",
       "      <th></th>\n",
       "      <th>invoice_no</th>\n",
       "      <th>customer_id</th>\n",
       "      <th>category</th>\n",
       "      <th>quantity</th>\n",
       "      <th>price</th>\n",
       "      <th>invoice_date</th>\n",
       "      <th>shopping_mall</th>\n",
       "    </tr>\n",
       "  </thead>\n",
       "  <tbody>\n",
       "    <tr>\n",
       "      <th>99452</th>\n",
       "      <td>I219422</td>\n",
       "      <td>C441542</td>\n",
       "      <td>Souvenir</td>\n",
       "      <td>5.0</td>\n",
       "      <td>58.65</td>\n",
       "      <td>21-09-2022</td>\n",
       "      <td>Kanyon</td>\n",
       "    </tr>\n",
       "    <tr>\n",
       "      <th>99453</th>\n",
       "      <td>I325143</td>\n",
       "      <td>C569580</td>\n",
       "      <td>Food &amp; Beverage</td>\n",
       "      <td>2.0</td>\n",
       "      <td>10.46</td>\n",
       "      <td>22-09-2021</td>\n",
       "      <td>Forum Istanbul</td>\n",
       "    </tr>\n",
       "    <tr>\n",
       "      <th>99454</th>\n",
       "      <td>I824010</td>\n",
       "      <td>C103292</td>\n",
       "      <td>Food &amp; Beverage</td>\n",
       "      <td>2.0</td>\n",
       "      <td>10.46</td>\n",
       "      <td>28-03-2021</td>\n",
       "      <td>Metrocity</td>\n",
       "    </tr>\n",
       "    <tr>\n",
       "      <th>99455</th>\n",
       "      <td>I702964</td>\n",
       "      <td>C800631</td>\n",
       "      <td>Technology</td>\n",
       "      <td>4.0</td>\n",
       "      <td>4200.00</td>\n",
       "      <td>16-03-2021</td>\n",
       "      <td>Istinye Park</td>\n",
       "    </tr>\n",
       "    <tr>\n",
       "      <th>99456</th>\n",
       "      <td>I232867</td>\n",
       "      <td>C273973</td>\n",
       "      <td>Souvenir</td>\n",
       "      <td>3.0</td>\n",
       "      <td>35.19</td>\n",
       "      <td>15-10-2022</td>\n",
       "      <td>Mall of Istanbul</td>\n",
       "    </tr>\n",
       "  </tbody>\n",
       "</table>\n",
       "</div>"
      ],
      "text/plain": [
       "      invoice_no customer_id         category  quantity    price invoice_date  \\\n",
       "99452    I219422     C441542         Souvenir       5.0    58.65   21-09-2022   \n",
       "99453    I325143     C569580  Food & Beverage       2.0    10.46   22-09-2021   \n",
       "99454    I824010     C103292  Food & Beverage       2.0    10.46   28-03-2021   \n",
       "99455    I702964     C800631       Technology       4.0  4200.00   16-03-2021   \n",
       "99456    I232867     C273973         Souvenir       3.0    35.19   15-10-2022   \n",
       "\n",
       "          shopping_mall  \n",
       "99452            Kanyon  \n",
       "99453    Forum Istanbul  \n",
       "99454         Metrocity  \n",
       "99455      Istinye Park  \n",
       "99456  Mall of Istanbul  "
      ]
     },
     "execution_count": 146,
     "metadata": {},
     "output_type": "execute_result"
    }
   ],
   "source": [
    "sales.tail()"
   ]
  },
  {
   "cell_type": "code",
   "execution_count": 147,
   "id": "c7fd1158-035d-4467-bde2-580b57111986",
   "metadata": {},
   "outputs": [
    {
     "data": {
      "text/plain": [
       "(99457, 7)"
      ]
     },
     "execution_count": 147,
     "metadata": {},
     "output_type": "execute_result"
    }
   ],
   "source": [
    "sales.shape"
   ]
  },
  {
   "cell_type": "code",
   "execution_count": 148,
   "id": "d4a7fcc1-3d3e-44f7-b2be-36d4a8cfe570",
   "metadata": {},
   "outputs": [
    {
     "name": "stdout",
     "output_type": "stream",
     "text": [
      "<class 'pandas.core.frame.DataFrame'>\n",
      "RangeIndex: 99457 entries, 0 to 99456\n",
      "Data columns (total 7 columns):\n",
      " #   Column         Non-Null Count  Dtype  \n",
      "---  ------         --------------  -----  \n",
      " 0   invoice_no     99457 non-null  object \n",
      " 1   customer_id    99457 non-null  object \n",
      " 2   category       99457 non-null  object \n",
      " 3   quantity       99452 non-null  float64\n",
      " 4   price          99454 non-null  float64\n",
      " 5   invoice_date   99457 non-null  object \n",
      " 6   shopping_mall  99453 non-null  object \n",
      "dtypes: float64(2), object(5)\n",
      "memory usage: 5.3+ MB\n"
     ]
    }
   ],
   "source": [
    "sales.info()"
   ]
  },
  {
   "cell_type": "code",
   "execution_count": 149,
   "id": "95d2bdbd-f538-4e41-9531-a5b911267829",
   "metadata": {},
   "outputs": [
    {
     "data": {
      "text/html": [
       "<div>\n",
       "<style scoped>\n",
       "    .dataframe tbody tr th:only-of-type {\n",
       "        vertical-align: middle;\n",
       "    }\n",
       "\n",
       "    .dataframe tbody tr th {\n",
       "        vertical-align: top;\n",
       "    }\n",
       "\n",
       "    .dataframe thead th {\n",
       "        text-align: right;\n",
       "    }\n",
       "</style>\n",
       "<table border=\"1\" class=\"dataframe\">\n",
       "  <thead>\n",
       "    <tr style=\"text-align: right;\">\n",
       "      <th></th>\n",
       "      <th>quantity</th>\n",
       "      <th>price</th>\n",
       "    </tr>\n",
       "  </thead>\n",
       "  <tbody>\n",
       "    <tr>\n",
       "      <th>count</th>\n",
       "      <td>99452.000000</td>\n",
       "      <td>99454.000000</td>\n",
       "    </tr>\n",
       "    <tr>\n",
       "      <th>mean</th>\n",
       "      <td>3.003358</td>\n",
       "      <td>689.269636</td>\n",
       "    </tr>\n",
       "    <tr>\n",
       "      <th>std</th>\n",
       "      <td>1.413000</td>\n",
       "      <td>941.195553</td>\n",
       "    </tr>\n",
       "    <tr>\n",
       "      <th>min</th>\n",
       "      <td>1.000000</td>\n",
       "      <td>5.230000</td>\n",
       "    </tr>\n",
       "    <tr>\n",
       "      <th>25%</th>\n",
       "      <td>2.000000</td>\n",
       "      <td>45.450000</td>\n",
       "    </tr>\n",
       "    <tr>\n",
       "      <th>50%</th>\n",
       "      <td>3.000000</td>\n",
       "      <td>203.300000</td>\n",
       "    </tr>\n",
       "    <tr>\n",
       "      <th>75%</th>\n",
       "      <td>4.000000</td>\n",
       "      <td>1200.320000</td>\n",
       "    </tr>\n",
       "    <tr>\n",
       "      <th>max</th>\n",
       "      <td>5.000000</td>\n",
       "      <td>5250.000000</td>\n",
       "    </tr>\n",
       "  </tbody>\n",
       "</table>\n",
       "</div>"
      ],
      "text/plain": [
       "           quantity         price\n",
       "count  99452.000000  99454.000000\n",
       "mean       3.003358    689.269636\n",
       "std        1.413000    941.195553\n",
       "min        1.000000      5.230000\n",
       "25%        2.000000     45.450000\n",
       "50%        3.000000    203.300000\n",
       "75%        4.000000   1200.320000\n",
       "max        5.000000   5250.000000"
      ]
     },
     "execution_count": 149,
     "metadata": {},
     "output_type": "execute_result"
    }
   ],
   "source": [
    "sales.describe()"
   ]
  },
  {
   "cell_type": "code",
   "execution_count": 150,
   "id": "cc1cde71-e8d6-4b64-94e6-560c97ae9db9",
   "metadata": {},
   "outputs": [
    {
     "data": {
      "text/plain": [
       "invoice_no        object\n",
       "customer_id       object\n",
       "category          object\n",
       "quantity         float64\n",
       "price            float64\n",
       "invoice_date      object\n",
       "shopping_mall     object\n",
       "dtype: object"
      ]
     },
     "execution_count": 150,
     "metadata": {},
     "output_type": "execute_result"
    }
   ],
   "source": [
    "sales.dtypes"
   ]
  },
  {
   "cell_type": "code",
   "execution_count": 151,
   "id": "def6fba6-6f41-4846-ab82-b81d7cec42a8",
   "metadata": {},
   "outputs": [],
   "source": [
    "# Ensuring all values in 'invoice_date' are treated as strings\n",
    "sales['invoice_date'] = sales['invoice_date'].astype(str)\n",
    "\n",
    "# Replacing '-' with '/'\n",
    "sales['invoice_date'] = sales['invoice_date'].str.replace('-', '/')\n",
    "\n",
    "# Convert the 'invoice_date' column to datetime format\n",
    "sales['invoice_date'] = pd.to_datetime(sales['invoice_date'], dayfirst=True, errors='coerce')"
   ]
  },
  {
   "cell_type": "code",
   "execution_count": 152,
   "id": "c5102f96-8cd2-4c73-86bc-ee85e2bf5fd1",
   "metadata": {},
   "outputs": [
    {
     "data": {
      "text/plain": [
       "invoice_no               object\n",
       "customer_id              object\n",
       "category                 object\n",
       "quantity                float64\n",
       "price                   float64\n",
       "invoice_date     datetime64[ns]\n",
       "shopping_mall            object\n",
       "dtype: object"
      ]
     },
     "execution_count": 152,
     "metadata": {},
     "output_type": "execute_result"
    }
   ],
   "source": [
    "sales.dtypes"
   ]
  },
  {
   "cell_type": "code",
   "execution_count": 153,
   "id": "009cdc50-aa20-45ff-9a8e-e6a4e13fd170",
   "metadata": {},
   "outputs": [
    {
     "data": {
      "text/plain": [
       "invoice_no       0\n",
       "customer_id      0\n",
       "category         0\n",
       "quantity         5\n",
       "price            3\n",
       "invoice_date     0\n",
       "shopping_mall    4\n",
       "dtype: int64"
      ]
     },
     "execution_count": 153,
     "metadata": {},
     "output_type": "execute_result"
    }
   ],
   "source": [
    "sales.isnull().sum()"
   ]
  },
  {
   "cell_type": "code",
   "execution_count": 154,
   "id": "05dc9bf3-f6c9-4062-abf9-bba9c0485a70",
   "metadata": {},
   "outputs": [],
   "source": [
    "# Creating a function to clean date strings\n",
    "def clean_date(date_str):\n",
    "    if isinstance(date_str, str):\n",
    "        # Replace '/' with '-'\n",
    "        date_str = date_str.replace('/', '-')\n",
    "    return date_str\n",
    "\n",
    "# Applying the cleaning function to the invoice_date column\n",
    "sales['invoice_date'] = sales['invoice_date'].apply(clean_date)\n",
    "\n",
    "# Converting the cleaned date strings to datetime\n",
    "sales['invoice_date'] = pd.to_datetime(sales['invoice_date'], dayfirst=True, errors='coerce')"
   ]
  },
  {
   "cell_type": "code",
   "execution_count": 155,
   "id": "9e1d4cec-4f56-4742-8661-aca60cbbe8e9",
   "metadata": {},
   "outputs": [
    {
     "data": {
      "text/plain": [
       "0"
      ]
     },
     "execution_count": 155,
     "metadata": {},
     "output_type": "execute_result"
    }
   ],
   "source": [
    "duplicate_rows = sales.duplicated().sum()\n",
    "duplicate_rows"
   ]
  },
  {
   "cell_type": "code",
   "execution_count": 156,
   "id": "733e3f38-f8c6-4b67-886b-5a6fc6d16c4e",
   "metadata": {},
   "outputs": [
    {
     "data": {
      "text/plain": [
       "invoice_no       0\n",
       "customer_id      0\n",
       "category         0\n",
       "quantity         5\n",
       "price            3\n",
       "invoice_date     0\n",
       "shopping_mall    4\n",
       "dtype: int64"
      ]
     },
     "execution_count": 156,
     "metadata": {},
     "output_type": "execute_result"
    }
   ],
   "source": [
    "sales.isnull().sum()"
   ]
  },
  {
   "cell_type": "code",
   "execution_count": 157,
   "id": "105d916d-5fc1-4c65-915f-29f10ca72c1c",
   "metadata": {},
   "outputs": [],
   "source": [
    "#Imputing missing shopping mall values with mode as its a categorical column\n",
    "sales['shopping_mall'].fillna(sales['shopping_mall'].mode()[0], inplace = True)"
   ]
  },
  {
   "cell_type": "code",
   "execution_count": 158,
   "id": "2f5111da-2268-4147-a8e7-48fa982bdd18",
   "metadata": {},
   "outputs": [
    {
     "data": {
      "text/plain": [
       "quantity   -0.001257\n",
       "price       2.247383\n",
       "dtype: float64"
      ]
     },
     "execution_count": 158,
     "metadata": {},
     "output_type": "execute_result"
    }
   ],
   "source": [
    "#Checking skewness\n",
    "skewness = sales[['quantity', 'price']].skew()\n",
    "skewness"
   ]
  },
  {
   "cell_type": "code",
   "execution_count": 159,
   "id": "4b739db6-dc3d-46ed-9740-e6ea270710a5",
   "metadata": {},
   "outputs": [],
   "source": [
    "#imputing null values in quantity column with mean\n",
    "sales['quantity'].fillna(sales['quantity'].mean(), inplace=True)"
   ]
  },
  {
   "cell_type": "code",
   "execution_count": 160,
   "id": "7e801fa0-ac13-4de8-829c-2ef031dc6e90",
   "metadata": {},
   "outputs": [],
   "source": [
    "#imputing null values in price column with median\n",
    "sales['price'].fillna(sales['price'].median(), inplace=True)\n"
   ]
  },
  {
   "cell_type": "code",
   "execution_count": 161,
   "id": "76e0f1fe-e439-4c96-8311-44dc4ef6d817",
   "metadata": {},
   "outputs": [
    {
     "data": {
      "text/plain": [
       "invoice_no       0\n",
       "customer_id      0\n",
       "category         0\n",
       "quantity         0\n",
       "price            0\n",
       "invoice_date     0\n",
       "shopping_mall    0\n",
       "dtype: int64"
      ]
     },
     "execution_count": 161,
     "metadata": {},
     "output_type": "execute_result"
    }
   ],
   "source": [
    "#Rechecking dataframe for null values\n",
    "sales.isnull().sum()"
   ]
  },
  {
   "cell_type": "code",
   "execution_count": 162,
   "id": "93bba337-de6e-436f-90c9-9fff9367f300",
   "metadata": {},
   "outputs": [
    {
     "data": {
      "text/plain": [
       "shopping_mall\n",
       "Mall of Istanbul     19945\n",
       "Kanyon               19822\n",
       "Metrocity            15010\n",
       "Metropol AVM         10161\n",
       "Istinye Park          9781\n",
       "Zorlu Center          5075\n",
       "Cevahir AVM           4991\n",
       "Forum Istanbul        4947\n",
       "Viaport Outlet        4914\n",
       "Emaar Square Mall     4811\n",
       "Name: count, dtype: int64"
      ]
     },
     "execution_count": 162,
     "metadata": {},
     "output_type": "execute_result"
    }
   ],
   "source": [
    "#viewing unique value counts in shopping mall column\n",
    "sales['shopping_mall'].value_counts()"
   ]
  },
  {
   "cell_type": "code",
   "execution_count": 163,
   "id": "78e24c2d-e1a5-48cc-b5e3-9fe848ce4e42",
   "metadata": {},
   "outputs": [
    {
     "data": {
      "text/plain": [
       "category\n",
       "Clothing           34486\n",
       "Cosmetics          15097\n",
       "Food & Beverage    14775\n",
       "Toys               10087\n",
       "Shoes              10034\n",
       "Souvenir            4998\n",
       "Technology          4996\n",
       "Books               4981\n",
       "Clothin                1\n",
       "Food & Be              1\n",
       "Souvenier              1\n",
       "Name: count, dtype: int64"
      ]
     },
     "execution_count": 163,
     "metadata": {},
     "output_type": "execute_result"
    }
   ],
   "source": [
    "#Viwing unique values in category column\n",
    "sales['category'].value_counts()"
   ]
  },
  {
   "cell_type": "code",
   "execution_count": 164,
   "id": "105d02c6-b3e3-4c42-a4ba-9166504f193f",
   "metadata": {},
   "outputs": [],
   "source": [
    "category_mapping = {\n",
    "    'Clothin': 'Clothing',\n",
    "    'Food & Be': 'Food & Beverage',\n",
    "    'Souvenier': 'Souvenir'\n",
    "}\n",
    "\n",
    "# Applying the mapping to correct the category names\n",
    "sales['category'] = sales['category'].replace(category_mapping)\n"
   ]
  },
  {
   "cell_type": "code",
   "execution_count": 165,
   "id": "5b2c9073-7200-41f4-99b0-60bd14dfb077",
   "metadata": {},
   "outputs": [
    {
     "data": {
      "text/plain": [
       "array(['Clothing', 'Shoes', 'Books', 'Cosmetics', 'Food & Beverage',\n",
       "       'Toys', 'Technology', 'Souvenir'], dtype=object)"
      ]
     },
     "execution_count": 165,
     "metadata": {},
     "output_type": "execute_result"
    }
   ],
   "source": [
    "# Verifying the unique categories after correction\n",
    "sales['category'].unique()"
   ]
  },
  {
   "cell_type": "code",
   "execution_count": 166,
   "id": "ea263091-59b6-4458-95a6-ffb942816291",
   "metadata": {},
   "outputs": [],
   "source": [
    "# Feature engineering as total sales\n",
    "sales['total_sales'] = sales['quantity'] * sales['price']\n"
   ]
  },
  {
   "cell_type": "code",
   "execution_count": 167,
   "id": "3cc7979a-c4c5-403b-9876-e3597de22598",
   "metadata": {},
   "outputs": [
    {
     "data": {
      "text/html": [
       "<div>\n",
       "<style scoped>\n",
       "    .dataframe tbody tr th:only-of-type {\n",
       "        vertical-align: middle;\n",
       "    }\n",
       "\n",
       "    .dataframe tbody tr th {\n",
       "        vertical-align: top;\n",
       "    }\n",
       "\n",
       "    .dataframe thead th {\n",
       "        text-align: right;\n",
       "    }\n",
       "</style>\n",
       "<table border=\"1\" class=\"dataframe\">\n",
       "  <thead>\n",
       "    <tr style=\"text-align: right;\">\n",
       "      <th></th>\n",
       "      <th>invoice_no</th>\n",
       "      <th>customer_id</th>\n",
       "      <th>category</th>\n",
       "      <th>quantity</th>\n",
       "      <th>price</th>\n",
       "      <th>invoice_date</th>\n",
       "      <th>shopping_mall</th>\n",
       "      <th>total_sales</th>\n",
       "    </tr>\n",
       "  </thead>\n",
       "  <tbody>\n",
       "    <tr>\n",
       "      <th>0</th>\n",
       "      <td>I138884</td>\n",
       "      <td>C241288</td>\n",
       "      <td>Clothing</td>\n",
       "      <td>5.0</td>\n",
       "      <td>1500.40</td>\n",
       "      <td>2022-08-05</td>\n",
       "      <td>Kanyon</td>\n",
       "      <td>7502.00</td>\n",
       "    </tr>\n",
       "    <tr>\n",
       "      <th>1</th>\n",
       "      <td>I317333</td>\n",
       "      <td>C111565</td>\n",
       "      <td>Shoes</td>\n",
       "      <td>3.0</td>\n",
       "      <td>1800.51</td>\n",
       "      <td>2021-12-12</td>\n",
       "      <td>Forum Istanbul</td>\n",
       "      <td>5401.53</td>\n",
       "    </tr>\n",
       "    <tr>\n",
       "      <th>2</th>\n",
       "      <td>I127801</td>\n",
       "      <td>C266599</td>\n",
       "      <td>Clothing</td>\n",
       "      <td>1.0</td>\n",
       "      <td>300.08</td>\n",
       "      <td>2021-11-09</td>\n",
       "      <td>Metrocity</td>\n",
       "      <td>300.08</td>\n",
       "    </tr>\n",
       "    <tr>\n",
       "      <th>3</th>\n",
       "      <td>I173702</td>\n",
       "      <td>C988172</td>\n",
       "      <td>Shoes</td>\n",
       "      <td>5.0</td>\n",
       "      <td>3000.85</td>\n",
       "      <td>2021-05-16</td>\n",
       "      <td>Metropol AVM</td>\n",
       "      <td>15004.25</td>\n",
       "    </tr>\n",
       "    <tr>\n",
       "      <th>4</th>\n",
       "      <td>I337046</td>\n",
       "      <td>C189076</td>\n",
       "      <td>Books</td>\n",
       "      <td>4.0</td>\n",
       "      <td>60.60</td>\n",
       "      <td>2021-10-24</td>\n",
       "      <td>Kanyon</td>\n",
       "      <td>242.40</td>\n",
       "    </tr>\n",
       "  </tbody>\n",
       "</table>\n",
       "</div>"
      ],
      "text/plain": [
       "  invoice_no customer_id  category  quantity    price invoice_date  \\\n",
       "0    I138884     C241288  Clothing       5.0  1500.40   2022-08-05   \n",
       "1    I317333     C111565     Shoes       3.0  1800.51   2021-12-12   \n",
       "2    I127801     C266599  Clothing       1.0   300.08   2021-11-09   \n",
       "3    I173702     C988172     Shoes       5.0  3000.85   2021-05-16   \n",
       "4    I337046     C189076     Books       4.0    60.60   2021-10-24   \n",
       "\n",
       "    shopping_mall  total_sales  \n",
       "0          Kanyon      7502.00  \n",
       "1  Forum Istanbul      5401.53  \n",
       "2       Metrocity       300.08  \n",
       "3    Metropol AVM     15004.25  \n",
       "4          Kanyon       242.40  "
      ]
     },
     "execution_count": 167,
     "metadata": {},
     "output_type": "execute_result"
    }
   ],
   "source": [
    "# c.Display the initial rows of the resulting tidy datase\n",
    "sales.head()"
   ]
  },
  {
   "cell_type": "code",
   "execution_count": 168,
   "id": "27664234-b0fb-4c46-9c90-510c07dbf7af",
   "metadata": {},
   "outputs": [
    {
     "data": {
      "text/html": [
       "<div>\n",
       "<style scoped>\n",
       "    .dataframe tbody tr th:only-of-type {\n",
       "        vertical-align: middle;\n",
       "    }\n",
       "\n",
       "    .dataframe tbody tr th {\n",
       "        vertical-align: top;\n",
       "    }\n",
       "\n",
       "    .dataframe thead th {\n",
       "        text-align: right;\n",
       "    }\n",
       "</style>\n",
       "<table border=\"1\" class=\"dataframe\">\n",
       "  <thead>\n",
       "    <tr style=\"text-align: right;\">\n",
       "      <th></th>\n",
       "      <th>invoice_no</th>\n",
       "      <th>customer_id</th>\n",
       "      <th>category</th>\n",
       "      <th>quantity</th>\n",
       "      <th>price</th>\n",
       "      <th>invoice_date</th>\n",
       "      <th>shopping_mall</th>\n",
       "      <th>total_sales</th>\n",
       "    </tr>\n",
       "  </thead>\n",
       "  <tbody>\n",
       "    <tr>\n",
       "      <th>0</th>\n",
       "      <td>I138884</td>\n",
       "      <td>C241288</td>\n",
       "      <td>Clothing</td>\n",
       "      <td>5.0</td>\n",
       "      <td>1500.40</td>\n",
       "      <td>2022-08-05</td>\n",
       "      <td>Kanyon</td>\n",
       "      <td>7502.00</td>\n",
       "    </tr>\n",
       "    <tr>\n",
       "      <th>1</th>\n",
       "      <td>I317333</td>\n",
       "      <td>C111565</td>\n",
       "      <td>Shoes</td>\n",
       "      <td>3.0</td>\n",
       "      <td>1800.51</td>\n",
       "      <td>2021-12-12</td>\n",
       "      <td>Forum Istanbul</td>\n",
       "      <td>5401.53</td>\n",
       "    </tr>\n",
       "    <tr>\n",
       "      <th>2</th>\n",
       "      <td>I127801</td>\n",
       "      <td>C266599</td>\n",
       "      <td>Clothing</td>\n",
       "      <td>1.0</td>\n",
       "      <td>300.08</td>\n",
       "      <td>2021-11-09</td>\n",
       "      <td>Metrocity</td>\n",
       "      <td>300.08</td>\n",
       "    </tr>\n",
       "    <tr>\n",
       "      <th>3</th>\n",
       "      <td>I173702</td>\n",
       "      <td>C988172</td>\n",
       "      <td>Shoes</td>\n",
       "      <td>5.0</td>\n",
       "      <td>3000.85</td>\n",
       "      <td>2021-05-16</td>\n",
       "      <td>Metropol AVM</td>\n",
       "      <td>15004.25</td>\n",
       "    </tr>\n",
       "    <tr>\n",
       "      <th>5</th>\n",
       "      <td>I227836</td>\n",
       "      <td>C657758</td>\n",
       "      <td>Clothing</td>\n",
       "      <td>5.0</td>\n",
       "      <td>1500.40</td>\n",
       "      <td>2022-05-24</td>\n",
       "      <td>Forum Istanbul</td>\n",
       "      <td>7502.00</td>\n",
       "    </tr>\n",
       "  </tbody>\n",
       "</table>\n",
       "</div>"
      ],
      "text/plain": [
       "  invoice_no customer_id  category  quantity    price invoice_date  \\\n",
       "0    I138884     C241288  Clothing       5.0  1500.40   2022-08-05   \n",
       "1    I317333     C111565     Shoes       3.0  1800.51   2021-12-12   \n",
       "2    I127801     C266599  Clothing       1.0   300.08   2021-11-09   \n",
       "3    I173702     C988172     Shoes       5.0  3000.85   2021-05-16   \n",
       "5    I227836     C657758  Clothing       5.0  1500.40   2022-05-24   \n",
       "\n",
       "    shopping_mall  total_sales  \n",
       "0          Kanyon      7502.00  \n",
       "1  Forum Istanbul      5401.53  \n",
       "2       Metrocity       300.08  \n",
       "3    Metropol AVM     15004.25  \n",
       "5  Forum Istanbul      7502.00  "
      ]
     },
     "execution_count": 168,
     "metadata": {},
     "output_type": "execute_result"
    }
   ],
   "source": [
    "# d.Applying the filters\n",
    "filtered_sales = sales[\n",
    "    (sales['category'].isin(['Clothing', 'Shoes', 'Cosmetics'])) &\n",
    "    (sales['invoice_date'] >= '2021-04-01') &\n",
    "    (sales['invoice_date'] <= '2023-03-31')]\n",
    "filtered_sales.head()"
   ]
  },
  {
   "cell_type": "code",
   "execution_count": 170,
   "id": "8fd06608-089a-4045-a936-9a26760edcfd",
   "metadata": {},
   "outputs": [],
   "source": [
    "# Saving the cleaned filtered dataset to a CSV file\n",
    "filtered_sales.to_csv('fashion&beauty_sales1.0.csv', index=False)"
   ]
  },
  {
   "cell_type": "code",
   "execution_count": 175,
   "id": "017f10e1-6ddd-4e6b-8c69-f1c5453646ac",
   "metadata": {},
   "outputs": [
    {
     "name": "stdout",
     "output_type": "stream",
     "text": [
      "Connection established successfully using Windows Authentication.\n"
     ]
    }
   ],
   "source": [
    "import pyodbc\n",
    "\n",
    "# Define the connection parameters for the SQL Server\n",
    "server = 'DESKTOP-VK2UTCK\\IC' \n",
    "database = 'Retail'  \n",
    "# Establishing the connection to the database using Windows Authentication\n",
    "try:\n",
    "    conn = pyodbc.connect(\n",
    "        f'DRIVER={{ODBC Driver 17 for SQL Server}};'\n",
    "        f'SERVER={server};'\n",
    "        f'DATABASE={database};'\n",
    "        'Trusted_Connection=yes;'\n",
    "    )\n",
    "    cursor = conn.cursor()\n",
    "    print(\"Connection established successfully using Windows Authentication.\")\n",
    "\n",
    "except pyodbc.Error as e:\n",
    "    print(f\"Error connecting to SQL Server: {e}\")"
   ]
  },
  {
   "cell_type": "code",
   "execution_count": 179,
   "id": "a8347898-4393-4baa-a757-575fd6b397bc",
   "metadata": {},
   "outputs": [
    {
     "name": "stdout",
     "output_type": "stream",
     "text": [
      "Error creating table: name 'connection_retail_sales' is not defined\n"
     ]
    }
   ],
   "source": [
    "try:\n",
    "    # Create a cursor for the new database connection\n",
    "    cursor_retail_sales = connection_retail_sales.cursor()\n",
    "\n",
    "    # Define the SQL query to create a new table\n",
    "    create_table_query = \"\"\"\n",
    "    CREATE TABLE Fashion (\n",
    "        invoice_no VARCHAR(50),\n",
    "        customer_id VARCHAR(50),\n",
    "        category VARCHAR(50),\n",
    "        quantity INT,\n",
    "        price FLOAT,\n",
    "        invoice_date DATE,\n",
    "        shopping_mall VARCHAR(50)\n",
    "    )\n",
    "    \"\"\"\n",
    "\n",
    "     # Commit the table creation to ensure it is completed\n",
    "    conn.commit()\n",
    "    print(\"Table created successfully (if it didn't already exist).\")\n",
    "\n",
    "except Exception as e:\n",
    "    conn.rollback()\n",
    "    print(f\"Error creating table: {e}\")\n"
   ]
  },
  {
   "cell_type": "code",
   "execution_count": null,
   "id": "79ba31a5-c9e7-4d59-9557-53220af25ec7",
   "metadata": {},
   "outputs": [],
   "source": [
    "try:\n",
    "    # Insert data into the table\n",
    "    for index, row in sales.iterrows():\n",
    "        cursor.execute('''\n",
    "        INSERT INTO sales (invoice_no, customer_id, category, quantity, price, invoice_date, shopping_mall, total_sales) \n",
    "        VALUES (?, ?, ?, ?, ?, ?, ?, ?)\n",
    "        ''')#, \n",
    "        #row['invoice_no'], row['customer_id'], row['category'], row['quantity'], row['price'], row['invoice_date'], row['shopping_mall'], row['total_sales'])\n",
    "\n",
    "    # Commit the transaction\n",
    "    conn.commit()\n",
    "    print(\"Data inserted successfully.\")\n",
    "\n",
    "except Exception as e:\n",
    "    conn.rollback()\n",
    "    print(f\"Error inserting data: {e}\")"
   ]
  },
  {
   "cell_type": "code",
   "execution_count": 44,
   "id": "38911a13-5046-4bbf-82b7-64908f0ccdae",
   "metadata": {},
   "outputs": [
    {
     "name": "stdout",
     "output_type": "stream",
     "text": [
      "Data inserted successfully.\n"
     ]
    }
   ],
   "source": [
    "try:\n",
    "    # Create a cursor for the new database connection\n",
    "    cursor_retail_sales = connection_retail_sales.cursor()\n",
    "\n",
    "    # Insert data into the SQL Server table\n",
    "    for index, row in filtered_df.iterrows():\n",
    "        cursor_retail_sales.execute(\"\"\"\n",
    "        INSERT INTO sales_data (invoice_no, customer_id, category, quantity, price, invoice_date, shopping_mall) \n",
    "        VALUES (?, ?, ?, ?, ?, ?, ?)\n",
    "        \"\"\", \n",
    "        row['invoice_no'], row['customer_id'], row['category'], row['quantity'], row['price'], row['invoice_date'], row['shopping_mall'])\n",
    "\n",
    "    # Commit the transaction\n",
    "    connection_retail_sales.commit()\n",
    "    print(\"Data inserted successfully.\")\n",
    "\n",
    "    # Close the cursor\n",
    "    cursor_retail_sales.close()\n",
    "except Exception as e:\n",
    "    print(\"Error while inserting data:\", e)"
   ]
  },
  {
   "cell_type": "code",
   "execution_count": 45,
   "id": "b0e82184-558f-40af-b180-e000ad6dca39",
   "metadata": {},
   "outputs": [
    {
     "name": "stdout",
     "output_type": "stream",
     "text": [
      "      invoice_no customer_id   category  quantity    price invoice_date  \\\n",
      "0        I138884     C241288   Clothing         5  1500.40   2022-08-05   \n",
      "1        I317333     C111565      Shoes         3  1800.51   2021-12-12   \n",
      "2        I127801     C266599   Clothing         1   300.08   2021-11-09   \n",
      "3        I173702     C988172      Shoes         5  3000.85   2021-05-16   \n",
      "4        I227836     C657758   Clothing         5  1500.40   2022-05-24   \n",
      "...          ...         ...        ...       ...      ...          ...   \n",
      "52939    I662891     C180055  Cosmetics         3   121.98   2021-09-03   \n",
      "52940    I887161     C137631   Clothing         1   300.08   2021-06-22   \n",
      "52941    I152790     C223470  Cosmetics         4   162.64   2021-07-26   \n",
      "52942    I332105     C231387      Shoes         4  2400.68   2021-08-29   \n",
      "52943    I134399     C953724   Clothing         1   300.08   2023-01-01   \n",
      "\n",
      "          shopping_mall  \n",
      "0                Kanyon  \n",
      "1        Forum Istanbul  \n",
      "2             Metrocity  \n",
      "3          Metropol AVM  \n",
      "4        Forum Istanbul  \n",
      "...                 ...  \n",
      "52939      Metropol AVM  \n",
      "52940            Kanyon  \n",
      "52941  Mall of Istanbul  \n",
      "52942      Metropol AVM  \n",
      "52943            Kanyon  \n",
      "\n",
      "[52944 rows x 7 columns]\n"
     ]
    }
   ],
   "source": [
    "try:\n",
    "    # Create a cursor for the new database connection\n",
    "    cursor_retail_sales = connection_retail_sales.cursor()\n",
    "\n",
    "    # Define the SQL query to retrieve the top 50 records from the table\n",
    "    select_query = \"SELECT * FROM sales_data\"\n",
    "\n",
    "    # Execute the query\n",
    "    cursor_retail_sales.execute(select_query)\n",
    "\n",
    "    # Fetch all rows from the executed query\n",
    "    rows = cursor_retail_sales.fetchall()\n",
    "\n",
    "    # Fetch the column names\n",
    "    columns = [column[0] for column in cursor_retail_sales.description]\n",
    "\n",
    "    # Create a DataFrame to display the data with column names\n",
    "    df = pd.DataFrame.from_records(rows, columns=columns)\n",
    "\n",
    "    # Display the DataFrame\n",
    "    print(df)\n",
    "\n",
    "    # Close the cursor\n",
    "    cursor_retail_sales.close()\n",
    "except Exception as e:\n",
    "    print(\"Error while retrieving data:\", e)"
   ]
  },
  {
   "cell_type": "code",
   "execution_count": 46,
   "id": "a68e19a2-c235-4012-85e8-cdc3dd33d58e",
   "metadata": {
    "scrolled": true
   },
   "outputs": [],
   "source": [
    "# Save DataFrame to a CSV file\n",
    "csv_file_path = 'E:\\\\NZSE\\\\612_DataTransformation\\\\Assignment 2\\\\Retail_sales.csv'\n",
    "df.to_csv(csv_file_path, index=False)"
   ]
  },
  {
   "cell_type": "code",
   "execution_count": 47,
   "id": "e4b9e622-8b15-4da0-880c-ae1c089456e7",
   "metadata": {},
   "outputs": [
    {
     "ename": "SyntaxError",
     "evalue": "(unicode error) 'unicodeescape' codec can't decode bytes in position 2-3: malformed \\N character escape (2281854510.py, line 4)",
     "output_type": "error",
     "traceback": [
      "\u001b[1;36m  Cell \u001b[1;32mIn[47], line 4\u001b[1;36m\u001b[0m\n\u001b[1;33m    service_account_key_path = 'E:\\NZSE\\612_DataTransformation\\Assignment 2\\playground-s-11-d23dd9a6-9e8d5e09e5c8.json'\u001b[0m\n\u001b[1;37m                                                                                                                       ^\u001b[0m\n\u001b[1;31mSyntaxError\u001b[0m\u001b[1;31m:\u001b[0m (unicode error) 'unicodeescape' codec can't decode bytes in position 2-3: malformed \\N character escape\n"
     ]
    }
   ],
   "source": [
    "from google.cloud import storage\n",
    "\n",
    "# Path to your service account key file\n",
    "service_account_key_path = 'E:\\NZSE\\612_DataTransformation\\Assignment 2\\playground-s-11-d23dd9a6-9e8d5e09e5c8.json'\n",
    "\n",
    "# Name of the new bucket\n",
    "bucket_name = 'Retail_Sales'\n",
    "\n",
    "# Path to the CSV file\n",
    "csv_file_path = 'E:\\\\NZSE\\\\612_DataTransformation\\\\Assignment 2\\\\Retail_sales.csv'\n",
    "\n",
    "# Destination path in the bucket\n",
    "destination_blob_name = 'Retail_sales.csv'\n",
    "\n",
    "# Initialize a client\n",
    "storage_client = storage.Client.from_service_account_json(service_account_key_path)\n",
    "\n",
    "# Create the bucket\n",
    "bucket = storage_client.create_bucket(bucket_name)\n",
    "print(f\"Bucket {bucket_name} created.\")\n",
    "\n",
    "# Get the bucket\n",
    "bucket = storage_client.bucket(bucket_name)\n",
    "\n",
    "# Create a blob\n",
    "blob = bucket.blob(destination_blob_name)\n",
    "\n",
    "# Upload the file\n",
    "blob.upload_from_filename(csv_file_path)\n",
    "\n",
    "print(f\"File {csv_file_path} uploaded to {bucket_name}/{destination_blob_name}.\")"
   ]
  },
  {
   "cell_type": "code",
   "execution_count": null,
   "id": "72445bea-5b1d-4ae1-a68a-6baa432caac1",
   "metadata": {},
   "outputs": [],
   "source": [
    "import os\n",
    "import schedule\n",
    "import time\n",
    "from google.cloud import storage\n",
    "from datetime import datetime\n",
    "\n",
    "# Configuration\n",
    "csv_file_path = 'path/to/your/file.csv'  # Path to your CSV file\n",
    "service_account_key_path = 'path/to/your/service-account-key.json'  # Path to your service account key file\n",
    "bucket_name = 'your-bucket-name'  # Your Google Cloud Storage bucket name\n",
    "\n",
    "def upload_to_gcs(file_path, service_account_key_path, bucket_name):\n",
    "    try:\n",
    "        # Initialize the storage client\n",
    "        storage_client = storage.Client.from_service_account_json(service_account_key_path)\n",
    "        bucket = storage_client.bucket(bucket_name)\n",
    "        blob = bucket.blob(os.path.basename(file_path))\n",
    "        \n",
    "        # Upload the file\n",
    "        blob.upload_from_filename(file_path)\n",
    "        print(f'File {file_path} uploaded to {bucket_name}/{os.path.basename(file_path)}')\n",
    "    except Exception as e:\n",
    "        print(f'Error uploading {file_path} to GCS: {e}')\n",
    "\n",
    "def backup_task():\n",
    "    print(\"Starting backup process...\")\n",
    "    upload_to_gcs(csv_file_path, service_account_key_path, bucket_name)\n",
    "    print(\"Backup process completed.\")\n",
    "\n",
    "# Schedule the backup task at 8:30 PM every day\n",
    "schedule.every().day.at(\"20:30\").do(backup_task)\n",
    "\n",
    "print(\"Scheduler started. Waiting for the next backup time...\")\n",
    "\n",
    "# Keep the script running\n",
    "while True:\n",
    "    schedule.run_pending()\n",
    "    time.sleep(1)"
   ]
  },
  {
   "cell_type": "code",
   "execution_count": null,
   "id": "b28e1148-86e8-4207-89be-83b975e01b88",
   "metadata": {},
   "outputs": [],
   "source": [
    "import os\n",
    "import zipfile\n",
    "from datetime import datetime\n",
    "from google.cloud import storage\n",
    "\n",
    "# Configuration\n",
    "directory_to_backup = 'E:\\\\NZSE\\\\612\\\\Assignment'\n",
    "service_account_key_path = 'path/to/your/service-account-key.json'\n",
    "bucket_name = 'your_new_bucket_name'\n",
    "\n",
    "# Generate zip file name with timestamp\n",
    "timestamp = datetime.now().strftime('%Y%m%d%H%M%S')\n",
    "zip_filename = f'E:\\\\NZSE\\\\612\\\\Assignment_backup_{timestamp}.zip'\n",
    "\n",
    "# Create a zip file\n",
    "with zipfile.ZipFile(zip_filename, 'w') as zipf:\n",
    "    for root, dirs, files in os.walk(directory_to_backup):\n",
    "        for file in files:\n",
    "            file_path = os.path.join(root, file)\n",
    "            arcname = os.path.relpath(file_path, start=directory_to_backup)\n",
    "            zipf.write(file_path, arcname)\n",
    "\n",
    "print(f'Backup created: {zip_filename}')\n",
    "\n",
    "# Upload to Google Cloud Storage\n",
    "def upload_to_gcs(zip_filename, service_account_key_path, bucket_name):\n",
    "    storage_client = storage.Client.from_service_account_json(service_account_key_path)\n",
    "    bucket = storage_client.bucket(bucket_name)\n",
    "    blob = bucket.blob(os.path.basename(zip_filename))\n",
    "    blob.upload_from_filename(zip_filename)\n",
    "    print(f'File {zip_filename} uploaded to {bucket_name}/{os.path.basename(zip_filename)}')\n",
    "\n",
    "upload_to_gcs(zip_filename, service_account_key_path, bucket_name)"
   ]
  }
 ],
 "metadata": {
  "kernelspec": {
   "display_name": "Python 3 (ipykernel)",
   "language": "python",
   "name": "python3"
  },
  "language_info": {
   "codemirror_mode": {
    "name": "ipython",
    "version": 3
   },
   "file_extension": ".py",
   "mimetype": "text/x-python",
   "name": "python",
   "nbconvert_exporter": "python",
   "pygments_lexer": "ipython3",
   "version": "3.11.7"
  }
 },
 "nbformat": 4,
 "nbformat_minor": 5
}
