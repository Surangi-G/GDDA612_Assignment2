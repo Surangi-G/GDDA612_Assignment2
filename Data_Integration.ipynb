{
 "cells": [
  {
   "cell_type": "code",
   "execution_count": 8,
   "id": "715d7534-1b7f-4dce-abf6-5fbc6f4df489",
   "metadata": {},
   "outputs": [
    {
     "name": "stdout",
     "output_type": "stream",
     "text": [
      "Requirement already satisfied: pyodbc in c:\\users\\hp 850 g3\\anaconda3\\lib\\site-packages (5.0.1)\n",
      "Note: you may need to restart the kernel to use updated packages.\n"
     ]
    }
   ],
   "source": [
    "pip install pyodbc"
   ]
  },
  {
   "cell_type": "code",
   "execution_count": 67,
   "id": "36542407-e6d6-45f7-aa01-43e11047e9df",
   "metadata": {},
   "outputs": [],
   "source": [
    "import pandas as pd\n",
    "import pyodbc"
   ]
  },
  {
   "cell_type": "code",
   "execution_count": 68,
   "id": "3c8d5026-75bc-4544-8a97-2f08e76df220",
   "metadata": {},
   "outputs": [
    {
     "data": {
      "text/html": [
       "<div>\n",
       "<style scoped>\n",
       "    .dataframe tbody tr th:only-of-type {\n",
       "        vertical-align: middle;\n",
       "    }\n",
       "\n",
       "    .dataframe tbody tr th {\n",
       "        vertical-align: top;\n",
       "    }\n",
       "\n",
       "    .dataframe thead th {\n",
       "        text-align: right;\n",
       "    }\n",
       "</style>\n",
       "<table border=\"1\" class=\"dataframe\">\n",
       "  <thead>\n",
       "    <tr style=\"text-align: right;\">\n",
       "      <th></th>\n",
       "      <th>invoice_no</th>\n",
       "      <th>customer_id</th>\n",
       "      <th>category</th>\n",
       "      <th>quantity</th>\n",
       "      <th>price</th>\n",
       "      <th>invoice_date</th>\n",
       "      <th>shopping_mall</th>\n",
       "      <th>total_sales</th>\n",
       "    </tr>\n",
       "  </thead>\n",
       "  <tbody>\n",
       "    <tr>\n",
       "      <th>0</th>\n",
       "      <td>I138884</td>\n",
       "      <td>C241288</td>\n",
       "      <td>Clothing</td>\n",
       "      <td>5.0</td>\n",
       "      <td>1500.40</td>\n",
       "      <td>2022-08-05</td>\n",
       "      <td>Kanyon</td>\n",
       "      <td>7502.00</td>\n",
       "    </tr>\n",
       "    <tr>\n",
       "      <th>1</th>\n",
       "      <td>I317333</td>\n",
       "      <td>C111565</td>\n",
       "      <td>Shoes</td>\n",
       "      <td>3.0</td>\n",
       "      <td>1800.51</td>\n",
       "      <td>2021-12-12</td>\n",
       "      <td>Forum Istanbul</td>\n",
       "      <td>5401.53</td>\n",
       "    </tr>\n",
       "    <tr>\n",
       "      <th>2</th>\n",
       "      <td>I127801</td>\n",
       "      <td>C266599</td>\n",
       "      <td>Clothing</td>\n",
       "      <td>1.0</td>\n",
       "      <td>300.08</td>\n",
       "      <td>2021-11-09</td>\n",
       "      <td>Metrocity</td>\n",
       "      <td>300.08</td>\n",
       "    </tr>\n",
       "    <tr>\n",
       "      <th>3</th>\n",
       "      <td>I173702</td>\n",
       "      <td>C988172</td>\n",
       "      <td>Shoes</td>\n",
       "      <td>5.0</td>\n",
       "      <td>3000.85</td>\n",
       "      <td>2021-05-16</td>\n",
       "      <td>Metropol AVM</td>\n",
       "      <td>15004.25</td>\n",
       "    </tr>\n",
       "    <tr>\n",
       "      <th>4</th>\n",
       "      <td>I227836</td>\n",
       "      <td>C657758</td>\n",
       "      <td>Clothing</td>\n",
       "      <td>5.0</td>\n",
       "      <td>1500.40</td>\n",
       "      <td>2022-05-24</td>\n",
       "      <td>Forum Istanbul</td>\n",
       "      <td>7502.00</td>\n",
       "    </tr>\n",
       "  </tbody>\n",
       "</table>\n",
       "</div>"
      ],
      "text/plain": [
       "  invoice_no customer_id  category  quantity    price invoice_date  \\\n",
       "0    I138884     C241288  Clothing       5.0  1500.40   2022-08-05   \n",
       "1    I317333     C111565     Shoes       3.0  1800.51   2021-12-12   \n",
       "2    I127801     C266599  Clothing       1.0   300.08   2021-11-09   \n",
       "3    I173702     C988172     Shoes       5.0  3000.85   2021-05-16   \n",
       "4    I227836     C657758  Clothing       5.0  1500.40   2022-05-24   \n",
       "\n",
       "    shopping_mall  total_sales  \n",
       "0          Kanyon      7502.00  \n",
       "1  Forum Istanbul      5401.53  \n",
       "2       Metrocity       300.08  \n",
       "3    Metropol AVM     15004.25  \n",
       "4  Forum Istanbul      7502.00  "
      ]
     },
     "execution_count": 68,
     "metadata": {},
     "output_type": "execute_result"
    }
   ],
   "source": [
    "# Load the cleaned dataset\n",
    "sales = pd.read_csv('fashion&beauty_sales1.0.csv')\n",
    "sales.head()\n"
   ]
  },
  {
   "cell_type": "code",
   "execution_count": 69,
   "id": "f9281a8b-2117-4407-aef8-eacf89c6dd36",
   "metadata": {},
   "outputs": [
    {
     "name": "stdout",
     "output_type": "stream",
     "text": [
      "Connection established successfully using Windows Authentication.\n"
     ]
    }
   ],
   "source": [
    "# Define the connection parameters for the SQL Server\n",
    "server = 'DESKTOP-VK2UTCK\\IC' \n",
    "database = 'Retail'  \n",
    "# Establishing the connection to the database using Windows Authentication\n",
    "try:\n",
    "    conn = pyodbc.connect(\n",
    "        f'DRIVER={{ODBC Driver 17 for SQL Server}};'\n",
    "        f'SERVER={server};'\n",
    "        f'DATABASE={database};'\n",
    "        'Trusted_Connection=yes;'\n",
    "    )\n",
    "    cursor = conn.cursor()\n",
    "    print(\"Connection established successfully using Windows Authentication.\")\n",
    "\n",
    "except pyodbc.Error as e:\n",
    "    print(f\"Error connecting to SQL Server: {e}\")"
   ]
  },
  {
   "cell_type": "code",
   "execution_count": 70,
   "id": "f8665476-aeb8-4e4b-b68f-e730b51a00c8",
   "metadata": {},
   "outputs": [
    {
     "name": "stdout",
     "output_type": "stream",
     "text": [
      "Table created successfully.\n"
     ]
    }
   ],
   "source": [
    "try:\n",
    "    # Define the SQL query to create a new table if it does not exist\n",
    "    create_table_query = ('''\n",
    "    IF NOT EXISTS (SELECT * FROM INFORMATION_SCHEMA.TABLES WHERE TABLE_NAME = 'Fashion')\n",
    "    BEGIN\n",
    "        CREATE TABLE Fashion (\n",
    "            invoice_no VARCHAR(50)PRIMARY KEY,\n",
    "            customer_id VARCHAR(50),\n",
    "            category VARCHAR(100),\n",
    "            quantity VARCHAR(10), \n",
    "            price FLOAT,\n",
    "            invoice_date DATE,\n",
    "            shopping_mall VARCHAR(100),\n",
    "            total_sales FLOAT\n",
    "        )\n",
    "    END\n",
    "    ''')\n",
    "\n",
    "    # Execute the table creation query\n",
    "    cursor.execute(create_table_query)\n",
    "\n",
    "    # Commit the table creation to ensure it is completed\n",
    "    conn.commit()\n",
    "    print(\"Table created successfully.\")\n",
    "\n",
    "except Exception as e:\n",
    "    conn.rollback()\n",
    "    print(f\"Error creating table: {e}\")"
   ]
  },
  {
   "cell_type": "code",
   "execution_count": 71,
   "id": "80a6aea8-eca0-4afc-bb84-a54269a292da",
   "metadata": {},
   "outputs": [
    {
     "name": "stdout",
     "output_type": "stream",
     "text": [
      "Error importing data: ('23000', \"[23000] [Microsoft][ODBC Driver 17 for SQL Server][SQL Server]Violation of PRIMARY KEY constraint 'PK__Fashion__F58CA1E3F6CB147F'. Cannot insert duplicate key in object 'dbo.Fashion'. The duplicate key value is (I138884). (2627) (SQLExecDirectW); [23000] [Microsoft][ODBC Driver 17 for SQL Server][SQL Server]The statement has been terminated. (3621)\")\n"
     ]
    }
   ],
   "source": [
    "# Inserting data into the table\n",
    "try:\n",
    "    for index, row in sales.iterrows():\n",
    "        cursor.execute('''\n",
    "        INSERT INTO Fashion (invoice_no, customer_id, category, quantity, price, invoice_date, shopping_mall, total_sales) \n",
    "        VALUES (?, ?, ?, ?, ?, ?, ?, ?)\n",
    "        ''', \n",
    "        row['invoice_no'], row['customer_id'], row['category'], row['quantity'], row['price'], row['invoice_date'], row['shopping_mall'], row['total_sales'])\n",
    "\n",
    "    # Commiting the transaction\n",
    "    conn.commit()\n",
    "    print(\"Data imported successfully.\")\n",
    "\n",
    "except Exception as e:\n",
    "    conn.rollback()\n",
    "    print(f\"Error importing data: {e}\")"
   ]
  },
  {
   "cell_type": "code",
   "execution_count": 72,
   "id": "af8af55a-5c80-4669-a7c2-54b08ecf46d0",
   "metadata": {},
   "outputs": [
    {
     "name": "stdout",
     "output_type": "stream",
     "text": [
      "('I100008', 'C199951', 'Clothing', '5', 1500.4, datetime.date(2022, 7, 10), 'Emaar Square Mall', 7502.0)\n",
      "('I100014', 'C138893', 'Cosmetics', '5', 203.3, datetime.date(2021, 6, 18), 'Viaport Outlet', 1016.5)\n",
      "('I100028', 'C325553', 'Clothing', '1', 300.08, datetime.date(2021, 6, 19), 'Metrocity', 300.08)\n",
      "('I100037', 'C122873', 'Clothing', '1', 300.08, datetime.date(2021, 6, 6), 'Kanyon', 300.08)\n",
      "('I100041', 'C326923', 'Cosmetics', '3', 121.98, datetime.date(2022, 7, 24), 'Mall of Istanbul', 365.94)\n",
      "('I100049', 'C297871', 'Shoes', '1', 600.17, datetime.date(2021, 12, 26), 'Mall of Istanbul', 600.17)\n",
      "('I100053', 'C217294', 'Cosmetics', '3', 121.98, datetime.date(2023, 1, 2), 'Metrocity', 365.94)\n",
      "('I100057', 'C225062', 'Clothing', '2', 600.16, datetime.date(2021, 10, 13), 'Forum Istanbul', 1200.32)\n",
      "('I100071', 'C522050', 'Clothing', '3', 900.24, datetime.date(2021, 10, 16), 'Mall of Istanbul', 2700.7200000000003)\n",
      "('I100084', 'C226369', 'Shoes', '2', 1200.34, datetime.date(2022, 10, 9), 'Kanyon', 2400.68)\n",
      "('I100089', 'C123196', 'Clothing', '5', 1500.4, datetime.date(2022, 3, 27), 'Emaar Square Mall', 7502.0)\n",
      "('I100090', 'C801451', 'Shoes', '4', 2400.68, datetime.date(2021, 4, 17), 'Metrocity', 9602.72)\n",
      "('I100095', 'C608046', 'Clothing', '2', 600.16, datetime.date(2021, 11, 23), 'Istinye Park', 1200.32)\n",
      "('I100098', 'C228071', 'Clothing', '5', 1500.4, datetime.date(2021, 11, 16), 'Cevahir AVM', 7502.0)\n",
      "('I100111', 'C314731', 'Clothing', '3', 900.24, datetime.date(2022, 9, 13), 'Metrocity', 2700.7200000000003)\n",
      "('I100116', 'C235320', 'Cosmetics', '3', 121.98, datetime.date(2022, 11, 18), 'Metropol AVM', 365.94)\n",
      "('I100126', 'C103405', 'Clothing', '3', 900.24, datetime.date(2022, 3, 26), 'Emaar Square Mall', 2700.7200000000003)\n",
      "('I100127', 'C708853', 'Clothing', '2', 600.16, datetime.date(2021, 11, 16), 'Cevahir AVM', 1200.32)\n",
      "('I100128', 'C168282', 'Clothing', '3', 900.24, datetime.date(2022, 7, 16), 'Istinye Park', 2700.7200000000003)\n",
      "('I100137', 'C233463', 'Shoes', '5', 3000.85, datetime.date(2021, 5, 16), 'Mall of Istanbul', 15004.25)\n",
      "('I100138', 'C237364', 'Clothing', '2', 600.16, datetime.date(2021, 6, 19), 'Mall of Istanbul', 1200.32)\n",
      "('I100142', 'C161659', 'Clothing', '4', 1200.32, datetime.date(2021, 8, 28), 'Metropol AVM', 4801.28)\n",
      "('I100145', 'C153189', 'Clothing', '5', 1500.4, datetime.date(2022, 12, 10), 'Kanyon', 7502.0)\n",
      "('I100146', 'C320745', 'Shoes', '4', 2400.68, datetime.date(2022, 4, 25), 'Emaar Square Mall', 9602.72)\n",
      "('I100148', 'C200488', 'Shoes', '4', 2400.68, datetime.date(2022, 4, 16), 'Zorlu Center', 9602.72)\n"
     ]
    }
   ],
   "source": [
    " # Query to retrieve top 25 records\n",
    "try:\n",
    "    cursor.execute(\"SELECT TOP 25* FROM Fashion\")\n",
    "    rows = cursor.fetchall()\n",
    "\n",
    "    # Display the records\n",
    "    for row in rows:\n",
    "        print(row)\n",
    "\n",
    "except pyodbc.Error as e:\n",
    "    print(f\"Error retrieving records: {e}\")"
   ]
  },
  {
   "cell_type": "code",
   "execution_count": 73,
   "id": "0ef2a16a-bef5-4939-930b-055e9bffaa3f",
   "metadata": {},
   "outputs": [
    {
     "name": "stdout",
     "output_type": "stream",
     "text": [
      "('I100137', 'C233463', 'Shoes', '5', 3000.85, datetime.date(2021, 5, 16), 'Mall of Istanbul', 15004.25)\n",
      "('I100223', 'C212702', 'Shoes', '5', 3000.85, datetime.date(2022, 11, 21), 'Metrocity', 15004.25)\n",
      "('I100439', 'C224698', 'Shoes', '5', 3000.85, datetime.date(2023, 3, 2), 'Metropol AVM', 15004.25)\n",
      "('I101017', 'C124932', 'Shoes', '5', 3000.85, datetime.date(2022, 7, 24), 'Mall of Istanbul', 15004.25)\n",
      "('I101360', 'C540352', 'Shoes', '5', 3000.85, datetime.date(2021, 7, 11), 'Mall of Istanbul', 15004.25)\n",
      "('I101659', 'C197249', 'Shoes', '5', 3000.85, datetime.date(2022, 11, 29), 'Viaport Outlet', 15004.25)\n",
      "('I101745', 'C105559', 'Shoes', '5', 3000.85, datetime.date(2021, 4, 5), 'Cevahir AVM', 15004.25)\n",
      "('I101785', 'C279161', 'Shoes', '5', 3000.85, datetime.date(2022, 7, 13), 'Kanyon', 15004.25)\n",
      "('I102061', 'C181574', 'Shoes', '5', 3000.85, datetime.date(2022, 3, 11), 'Kanyon', 15004.25)\n",
      "('I102092', 'C172569', 'Shoes', '5', 3000.85, datetime.date(2022, 11, 16), 'Viaport Outlet', 15004.25)\n"
     ]
    }
   ],
   "source": [
    "# sorting top 10 records by 'total_sales' in descending order\n",
    "try:\n",
    "    cursor.execute(\"SELECT TOP 10 * FROM Fashion ORDER BY total_sales DESC\")\n",
    "    sorted_rows = cursor.fetchall()\n",
    "\n",
    "    for row in sorted_rows:\n",
    "        print(row)\n",
    "\n",
    "except pyodbc.Error as e:\n",
    "    print(f\"Error sorting records: {e}\")\n"
   ]
  },
  {
   "cell_type": "code",
   "execution_count": 74,
   "id": "f2eb4baf-53f4-49fe-bdcb-0f94e9c5e833",
   "metadata": {},
   "outputs": [
    {
     "name": "stdout",
     "output_type": "stream",
     "text": [
      "Total Number of records: 52944\n"
     ]
    }
   ],
   "source": [
    "# counting the number of records\n",
    "try:\n",
    "    cursor.execute(\"SELECT COUNT(*) FROM Fashion\")\n",
    "    Total_record_count = cursor.fetchone()[0]\n",
    "\n",
    "    print(f\"Total Number of records: {Total_record_count}\")\n",
    "\n",
    "except pyodbc.Error as e:\n",
    "    print(f\"Error counting records: {e}\")\n"
   ]
  },
  {
   "cell_type": "code",
   "execution_count": 75,
   "id": "57930a8b-63e5-4135-8c59-76813cecfdfc",
   "metadata": {},
   "outputs": [
    {
     "name": "stdout",
     "output_type": "stream",
     "text": [
      "('Cosmetics', 13463)\n",
      "('Shoes', 8886)\n",
      "('Clothing', 30595)\n"
     ]
    }
   ],
   "source": [
    "# Grouping the records by 'category' and count them\n",
    "try:\n",
    "    cursor.execute(\"SELECT category, COUNT(*) FROM Fashion GROUP BY category\")\n",
    "    grouped_rows = cursor.fetchall()\n",
    "\n",
    "    for row in grouped_rows:\n",
    "        print(row)\n",
    "\n",
    "except pyodbc.Error as e:\n",
    "    print(f\"Error grouping records: {e}\")\n"
   ]
  },
  {
   "cell_type": "code",
   "execution_count": 76,
   "id": "26eb0383-ba41-42d1-a5fe-0b5127937910",
   "metadata": {},
   "outputs": [
    {
     "name": "stdout",
     "output_type": "stream",
     "text": [
      "Record with invoice number I227836 updated successfully.\n"
     ]
    }
   ],
   "source": [
    "#updating the product quantity of invoice number I227836\n",
    "try:\n",
    "    # Defining the invoice number and new quantity to be set\n",
    "    updated_quantity = 3\n",
    "    invoice_no = 'I227836'\n",
    "\n",
    "    # Execute the update query\n",
    "    cursor.execute('''\n",
    "    UPDATE Fashion\n",
    "    SET quantity = ?, \n",
    "        total_sales = ? * price\n",
    "    WHERE invoice_no = ?\n",
    "    ''', (new_quantity, new_quantity, invoice_no))\n",
    "\n",
    "    # Committing the changes\n",
    "    conn.commit()\n",
    "    print(f\"Record with invoice number {invoice_no} updated successfully.\")\n",
    "\n",
    "except pyodbc.Error as e:\n",
    "    conn.rollback()\n",
    "    print(f\"Error updating record: {e}\")"
   ]
  },
  {
   "cell_type": "code",
   "execution_count": null,
   "id": "a1771d8f-cb6a-4788-ae02-9752ebb23aa8",
   "metadata": {},
   "outputs": [],
   "source": [
    "# Define the table name and the output file path\n",
    "table = 'Fashion'\n",
    "output_file = 'fashion_sales.json'  \n",
    "\n",
    "try:\n",
    "    # Query to select all data from the specified table\n",
    "    query = f\"SELECT * FROM {table_name}\"\n",
    "\n",
    "    # Read the data into a pandas DataFrame\n",
    "    df = pd.read_sql(query, conn)\n",
    "\n",
    "    # Export the data to a CSV file\n",
    "    df.to_csv(output_file, index=False)  \n",
    "\n",
    "    print(f\"Data exported successfully to {output_file}\")\n",
    "\n",
    "except Exception as e:\n",
    "    print(f\"Error exporting data: {e}\")"
   ]
  },
  {
   "cell_type": "code",
   "execution_count": 66,
   "id": "dfe1ca88-d9bc-4f93-97fe-de28ef02ea9c",
   "metadata": {},
   "outputs": [
    {
     "name": "stdout",
     "output_type": "stream",
     "text": [
      "Connection closed successfully.\n"
     ]
    }
   ],
   "source": [
    "try:\n",
    "    conn.close()\n",
    "    print(\"Connection closed successfully.\")\n",
    "\n",
    "except pyodbc.Error as e:\n",
    "    print(f\"Error closing the connection: {e}\")\n"
   ]
  },
  {
   "cell_type": "code",
   "execution_count": null,
   "id": "43cd8f39-031f-4574-b816-844e1ad48c24",
   "metadata": {},
   "outputs": [],
   "source": []
  }
 ],
 "metadata": {
  "kernelspec": {
   "display_name": "Python 3 (ipykernel)",
   "language": "python",
   "name": "python3"
  },
  "language_info": {
   "codemirror_mode": {
    "name": "ipython",
    "version": 3
   },
   "file_extension": ".py",
   "mimetype": "text/x-python",
   "name": "python",
   "nbconvert_exporter": "python",
   "pygments_lexer": "ipython3",
   "version": "3.11.7"
  }
 },
 "nbformat": 4,
 "nbformat_minor": 5
}
