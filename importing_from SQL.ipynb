{
 "cells": [
  {
   "cell_type": "code",
   "execution_count": 5,
   "id": "837223d7-cffd-40ff-be9a-74c46ef44d56",
   "metadata": {},
   "outputs": [
    {
     "name": "stdout",
     "output_type": "stream",
     "text": [
      "Requirement already satisfied: pyodbc in c:\\users\\hp 850 g3\\anaconda3\\lib\\site-packages (5.0.1)\n",
      "Note: you may need to restart the kernel to use updated packages.\n"
     ]
    }
   ],
   "source": [
    "pip install pyodbc"
   ]
  },
  {
   "cell_type": "code",
   "execution_count": 6,
   "id": "e957d09a-7f99-451a-b901-761de7756488",
   "metadata": {},
   "outputs": [],
   "source": [
    "import pyodbc\n",
    "import pandas as pd\n"
   ]
  },
  {
   "cell_type": "code",
   "execution_count": 11,
   "id": "cbdc8286-06b4-4045-a135-cb5e94532798",
   "metadata": {},
   "outputs": [
    {
     "name": "stderr",
     "output_type": "stream",
     "text": [
      "C:\\Users\\HP 850 G3\\AppData\\Local\\Temp\\ipykernel_460\\274732098.py:19: UserWarning: pandas only supports SQLAlchemy connectable (engine/connection) or database string URI or sqlite3 DBAPI2 connection. Other DBAPI2 objects are not tested. Please consider using SQLAlchemy.\n",
      "  df = pd.read_sql(query, conn)\n"
     ]
    },
    {
     "name": "stdout",
     "output_type": "stream",
     "text": [
      "Data exported as a csv successfully \n",
      "Database connection closed successfully.\n"
     ]
    }
   ],
   "source": [
    "# Database connection setup using Windows Authentication\n",
    "connection_string = (\n",
    "    r'DRIVER={ODBC Driver 17 for SQL Server};'\n",
    "    r'SERVER=DESKTOP-VK2UTCK\\IC;'\n",
    "    r'DATABASE=Retail;' \n",
    "    r'Trusted_Connection=yes;'\n",
    ")\n",
    "conn = pyodbc.connect(connection_string)\n",
    "\n",
    "# Specify the table name and output file path\n",
    "table_name = 'Fashion'  \n",
    "output_file = r'E:\\\\NZSE\\612_DataTransformation\\Assignment 2\\Fashion_sales.csv'\n",
    "\n",
    "try:\n",
    "    # selecting all data from the specified table\n",
    "    query = \"SELECT * FROM Fashion\"\n",
    "\n",
    "    # importing data in to a pandas DataFrame\n",
    "    df = pd.read_sql(query, conn)\n",
    "\n",
    "    # Exporting the data to a CSV file\n",
    "    df.to_csv(output_file, index=False)  \n",
    "\n",
    "    print(f\"Data exported as a csv successfully \")\n",
    "\n",
    "except Exception as e:\n",
    "    print(\"Error exporting data: {e}\")\n",
    "\n",
    "finally:\n",
    "    # Close the database connection\n",
    "    conn.close()\n",
    "    print(\"Database connection closed successfully.\")"
   ]
  },
  {
   "cell_type": "code",
   "execution_count": null,
   "id": "b87a38b1-c991-4138-b159-74ac5444c7c8",
   "metadata": {},
   "outputs": [],
   "source": [
    "import pandas as pd\n",
    "from sqlalchemy import create_engine\n",
    "\n",
    "# Creating an SQLAlchemy engine \n",
    "engine = create_engine(\"mssql+pyodbc://Your_Server_Name/Your_Database_Name?driver=ODBC+Driver+17+for+SQL+Server;Trusted_Connection=yes\")\n",
    "\n",
    "# Querying to select all data from the specified table\n",
    "query = \"SELECT * FROM Fashion\"\n",
    "\n",
    "# Read the data into a pandas DataFrame using the SQLAlchemy engine\n",
    "df = pd.read_sql(query, engine)\n",
    "\n",
    "# Export the data to a CSV file\n",
    "output_file = r'E:\\NZSE\\612_DataTransformation\\Assignment 2\\Fashion_sales_08082024.csv'\n",
    "df.to_csv(output_file, index=False)\n",
    "\n",
    "print(f\"Data exported successfully to {output_file}\")"
   ]
  }
 ],
 "metadata": {
  "kernelspec": {
   "display_name": "Python 3 (ipykernel)",
   "language": "python",
   "name": "python3"
  },
  "language_info": {
   "codemirror_mode": {
    "name": "ipython",
    "version": 3
   },
   "file_extension": ".py",
   "mimetype": "text/x-python",
   "name": "python",
   "nbconvert_exporter": "python",
   "pygments_lexer": "ipython3",
   "version": "3.11.7"
  }
 },
 "nbformat": 4,
 "nbformat_minor": 5
}
